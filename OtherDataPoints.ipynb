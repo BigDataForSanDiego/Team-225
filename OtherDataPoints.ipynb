{
 "cells": [
  {
   "cell_type": "code",
   "execution_count": 1,
   "id": "e5710921",
   "metadata": {},
   "outputs": [],
   "source": [
    "import pandas as pd\n",
    "import numpy as np"
   ]
  },
  {
   "cell_type": "code",
   "execution_count": 2,
   "id": "98ababa5",
   "metadata": {},
   "outputs": [],
   "source": [
    "#random seed remains as 76\n",
    "np.random.seed(76)"
   ]
  },
  {
   "cell_type": "code",
   "execution_count": 3,
   "id": "47b6ed20",
   "metadata": {},
   "outputs": [],
   "source": [
    "years = range(2012, 2023)"
   ]
  },
  {
   "cell_type": "code",
   "execution_count": 4,
   "id": "854b1cb2",
   "metadata": {},
   "outputs": [],
   "source": [
    "geographic_areas = [\n",
    "    'Alpine', 'Borrego Springs', 'Camp Pendleton', 'Fallbrook', 'Jamul',\n",
    "    'Laguna-Pine Valley', 'Mountain Empire', 'Oceanside-Escondido',\n",
    "    'Palomar-Julian CCD', 'Pauma Valley CCD', 'Ramona CCD', 'San Diego CCD',\n",
    "    'Valley Center CCD'\n",
    "]"
   ]
  },
  {
   "cell_type": "markdown",
   "id": "e3ed0e66",
   "metadata": {},
   "source": [
    "Tomas and I used past research to approximate these rates "
   ]
  },
  {
   "cell_type": "code",
   "execution_count": 8,
   "id": "470eec34",
   "metadata": {},
   "outputs": [],
   "source": [
    "def generate_random_data(areas, year):\n",
    "    data = {\n",
    "        'Community': np.random.choice(areas, size=len(areas), replace=False),\n",
    "        'Proportion of families below the poverty level': np.random.uniform(0.05, 0.25, size=len(areas)),\n",
    "        'Employment status': np.random.uniform(0.6, 0.95, size=len(areas)),  \n",
    "        'Recorded overdose incidents': np.random.randint(5, 150, size=len(areas)), \n",
    "        'Proportion of population unhoused': np.random.uniform(0.01, 0.1, size=len(areas)),  \n",
    "        'Number of healthcare facilities': np.random.randint(1, 20, size=len(areas)), \n",
    "        'Urban or rural': np.random.choice(['Urban', 'Rural'], size=len(areas)),  \n",
    "        'Opioid prescription rates': np.random.uniform(0.05, 0.3, size=len(areas)), \n",
    "        'Drug-related arrests': np.random.randint(10, 300, size=len(areas)), \n",
    "        'Year': [year] * len(areas)  \n",
    "    }\n",
    "    return pd.DataFrame(data)\n"
   ]
  },
  {
   "cell_type": "code",
   "execution_count": 7,
   "id": "daa1b66c",
   "metadata": {},
   "outputs": [
    {
     "name": "stdout",
     "output_type": "stream",
     "text": [
      "Generated PovertyOverdoseData2012.csv\n",
      "Generated PovertyOverdoseData2013.csv\n",
      "Generated PovertyOverdoseData2014.csv\n",
      "Generated PovertyOverdoseData2015.csv\n",
      "Generated PovertyOverdoseData2016.csv\n",
      "Generated PovertyOverdoseData2017.csv\n",
      "Generated PovertyOverdoseData2018.csv\n",
      "Generated PovertyOverdoseData2019.csv\n",
      "Generated PovertyOverdoseData2020.csv\n",
      "Generated PovertyOverdoseData2021.csv\n",
      "Generated PovertyOverdoseData2022.csv\n"
     ]
    }
   ],
   "source": [
    "for year in years:\n",
    "    random_data = generate_random_data(geographic_areas, year)\n",
    "    file_name = f'PovertyOverdoseData{year}.csv'\n",
    "    random_data.to_csv(file_name, index=False)\n",
    "    print(f\"Generated {file_name}\")"
   ]
  },
  {
   "cell_type": "markdown",
   "id": "df4edef0",
   "metadata": {},
   "source": [
    "Saved into notebook|"
   ]
  },
  {
   "cell_type": "code",
   "execution_count": null,
   "id": "36b65262",
   "metadata": {},
   "outputs": [],
   "source": []
  }
 ],
 "metadata": {
  "kernelspec": {
   "display_name": "Python 3 (ipykernel)",
   "language": "python",
   "name": "python3"
  },
  "language_info": {
   "codemirror_mode": {
    "name": "ipython",
    "version": 3
   },
   "file_extension": ".py",
   "mimetype": "text/x-python",
   "name": "python",
   "nbconvert_exporter": "python",
   "pygments_lexer": "ipython3",
   "version": "3.11.5"
  }
 },
 "nbformat": 4,
 "nbformat_minor": 5
}

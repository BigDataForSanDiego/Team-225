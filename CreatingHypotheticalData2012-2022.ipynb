{
 "cells": [
  {
   "cell_type": "code",
   "execution_count": 34,
   "id": "384ae98f",
   "metadata": {},
   "outputs": [],
   "source": [
    "import numpy as np\n",
    "import pandas as pd"
   ]
  },
  {
   "cell_type": "markdown",
   "id": "7e9b7dc4",
   "metadata": {},
   "source": []
  },
  {
   "cell_type": "code",
   "execution_count": 35,
   "id": "9f4cf8bc",
   "metadata": {},
   "outputs": [],
   "source": [
    "csv_file_path = 'General_Population_Data_ACS_2019.csv (2).csv'  \n",
    "population_data_df = pd.read_csv(csv_file_path, header=1) "
   ]
  },
  {
   "cell_type": "markdown",
   "id": "94755c38",
   "metadata": {},
   "source": []
  },
  {
   "cell_type": "code",
   "execution_count": 36,
   "id": "c55cea85",
   "metadata": {},
   "outputs": [],
   "source": [
    "estimate_columns = [col for col in population_data_df.columns if 'Estimate' in col]\n",
    "population_data_cleaned = population_data_df[['Geographic Area Name'] + estimate_columns].copy()"
   ]
  },
  {
   "cell_type": "markdown",
   "id": "429b8946",
   "metadata": {},
   "source": []
  },
  {
   "cell_type": "code",
   "execution_count": 32,
   "id": "3a46af1b",
   "metadata": {},
   "outputs": [],
   "source": [
    "def generate_synthetic_data_for_year(df, year):\n",
    "    synthetic_data = df.copy()\n",
    "    for col in synthetic_data.columns[1:]:  \n",
    "        synthetic_data[col] = pd.to_numeric(synthetic_data[col], errors='coerce')\n",
    "        variation = np.random.normal(loc=0, scale=0.05, size=synthetic_data[col].shape)  \n",
    "        synthetic_data[col] = (synthetic_data[col] * (1 + variation)).round(2)  \n",
    "    synthetic_data['Year'] = year\n",
    "    return synthetic_data\n"
   ]
  },
  {
   "cell_type": "code",
   "execution_count": 38,
   "id": "53be0ca9",
   "metadata": {},
   "outputs": [
    {
     "name": "stdout",
     "output_type": "stream",
     "text": [
      "Generated file for 2012: population_data_corrected_2012.csv\n",
      "Generated file for 2013: population_data_corrected_2013.csv\n",
      "Generated file for 2014: population_data_corrected_2014.csv\n",
      "Generated file for 2015: population_data_corrected_2015.csv\n",
      "Generated file for 2016: population_data_corrected_2016.csv\n",
      "Generated file for 2017: population_data_corrected_2017.csv\n",
      "Generated file for 2018: population_data_corrected_2018.csv\n",
      "Generated file for 2019: population_data_corrected_2019.csv\n",
      "Generated file for 2020: population_data_corrected_2020.csv\n",
      "Generated file for 2021: population_data_corrected_2021.csv\n",
      "Generated file for 2022: population_data_corrected_2022.csv\n"
     ]
    }
   ],
   "source": [
    "for df in yearly_datasets:\n",
    "    year = df['Year'].iloc[0]\n",
    "    file_path = f\"population_data_corrected_{year}.csv\"  \n",
    "    df.to_csv(file_path, index=False)\n",
    "    print(f\"Generated file for {year}: {file_path}\")"
   ]
  },
  {
   "cell_type": "code",
   "execution_count": 39,
   "id": "b004bb8b",
   "metadata": {},
   "outputs": [],
   "source": [
    "years = range(2012, 2023)\n",
    "yearly_datasets = [generate_synthetic_data_for_year(population_data_cleaned, year) for year in years]\n"
   ]
  },
  {
   "cell_type": "code",
   "execution_count": 42,
   "id": "2a540e25",
   "metadata": {},
   "outputs": [
    {
     "name": "stdout",
     "output_type": "stream",
     "text": [
      "Generated file for 2012: population_data_corrected_2012.csv\n",
      "Generated file for 2013: population_data_corrected_2013.csv\n",
      "Generated file for 2014: population_data_corrected_2014.csv\n",
      "Generated file for 2015: population_data_corrected_2015.csv\n",
      "Generated file for 2016: population_data_corrected_2016.csv\n",
      "Generated file for 2017: population_data_corrected_2017.csv\n",
      "Generated file for 2018: population_data_corrected_2018.csv\n",
      "Generated file for 2019: population_data_corrected_2019.csv\n",
      "Generated file for 2020: population_data_corrected_2020.csv\n",
      "Generated file for 2021: population_data_corrected_2021.csv\n",
      "Generated file for 2022: population_data_corrected_2022.csv\n"
     ]
    }
   ],
   "source": [
    "for df in yearly_datasets:\n",
    "    year = df['Year'].iloc[0]\n",
    "    file_path = f\"population_data_corrected_{year}.csv\" \n",
    "    df.to_csv(file_path, index=False)\n",
    "    print(f\"Generated file for {year}: {file_path}\")"
   ]
  },
  {
   "cell_type": "code",
   "execution_count": null,
   "id": "ff2eae3b",
   "metadata": {},
   "outputs": [],
   "source": []
  }
 ],
 "metadata": {
  "kernelspec": {
   "display_name": "Python 3 (ipykernel)",
   "language": "python",
   "name": "python3"
  },
  "language_info": {
   "codemirror_mode": {
    "name": "ipython",
    "version": 3
   },
   "file_extension": ".py",
   "mimetype": "text/x-python",
   "name": "python",
   "nbconvert_exporter": "python",
   "pygments_lexer": "ipython3",
   "version": "3.11.5"
  }
 },
 "nbformat": 4,
 "nbformat_minor": 5
}

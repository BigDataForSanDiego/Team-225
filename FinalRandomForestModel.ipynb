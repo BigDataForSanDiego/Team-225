{
 "cells": [
  {
   "cell_type": "code",
   "execution_count": 1,
   "id": "093428d6",
   "metadata": {},
   "outputs": [],
   "source": [
    "import pandas as pd\n",
    "import numpy as np\n",
    "from sklearn.model_selection import train_test_split\n",
    "from sklearn.ensemble import RandomForestRegressor\n",
    "from sklearn.metrics import mean_squared_error, r2_score"
   ]
  },
  {
   "cell_type": "code",
   "execution_count": 2,
   "id": "76597b24",
   "metadata": {},
   "outputs": [],
   "source": [
    "np.random.seed(76)"
   ]
  },
  {
   "cell_type": "code",
   "execution_count": 3,
   "id": "dc45ac09",
   "metadata": {},
   "outputs": [],
   "source": [
    "years = np.arange(2012, 2023)"
   ]
  },
  {
   "cell_type": "code",
   "execution_count": 4,
   "id": "b793e0c0",
   "metadata": {},
   "outputs": [],
   "source": [
    "target_communities = [\n",
    "    'Alpine', 'Borrego Springs', 'Camp Pendleton', 'Fallbrook', 'Jamul',\n",
    "    'Laguna-Pine Valley', 'Mountain Empire', 'Oceanside-Escondido',\n",
    "    'Palomar-Julian CCD', 'Pauma Valley CCD', 'Ramona CCD', 'San Diego CCD',\n",
    "    'Valley Center CCD'\n",
    "]"
   ]
  },
  {
   "cell_type": "code",
   "execution_count": 5,
   "id": "e3aafab3",
   "metadata": {},
   "outputs": [],
   "source": [
    "def example_data(years, communities):\n",
    "    data = []\n",
    "    for year in years:\n",
    "        for community in communities:\n",
    "            row = {\n",
    "                'Community': community,\n",
    "                'Year': year,\n",
    "                'Proportion of families below the poverty level': np.random.uniform(0.05, 0.25),\n",
    "                'Employment status': np.random.uniform(0.6, 0.95),\n",
    "                'Recorded overdose incidents': np.random.randint(5, 150),\n",
    "                'Proportion of population unhoused': np.random.uniform(0.01, 0.1),\n",
    "                'Number of healthcare facilities': np.random.randint(1, 20),\n",
    "                'Urban or rural': np.random.choice(['Urban', 'Rural']),\n",
    "                'Opioid prescription rates': np.random.uniform(0.05, 0.3),\n",
    "                'Drug-related arrests': np.random.randint(10, 300),\n",
    "                'Total population': np.random.randint(10000, 100000),\n",
    "                'Total population Male': np.random.randint(5000, 50000),\n",
    "                'Total population Female': np.random.randint(5000, 50000),\n",
    "                'Population 0 to 14 years': np.random.randint(1000, 20000),\n",
    "                'Population 15 to 19 years': np.random.randint(500, 10000),\n",
    "                'Population 20 to 24 years': np.random.randint(500, 10000),\n",
    "                'Population 25 to 34 years': np.random.randint(2000, 15000),\n",
    "                'Population 35 to 44 years': np.random.randint(2000, 15000),\n",
    "                'Population 45 to 54 years': np.random.randint(2000, 15000),\n",
    "                'Population 55 to 64 years': np.random.randint(2000, 15000),\n",
    "                'Population 65 years and over': np.random.randint(1000, 15000),\n",
    "            }\n",
    "            data.append(row)\n",
    "    return pd.DataFrame(data)"
   ]
  },
  {
   "cell_type": "code",
   "execution_count": 6,
   "id": "5776d606",
   "metadata": {},
   "outputs": [],
   "source": [
    "df = example_data(years, target_communities)"
   ]
  },
  {
   "cell_type": "code",
   "execution_count": 7,
   "id": "fc8e148c",
   "metadata": {},
   "outputs": [],
   "source": [
    "df['Urban or rural'] = df['Urban or rural'].apply(lambda x: 1 if x == 'Urban' else 0)"
   ]
  },
  {
   "cell_type": "code",
   "execution_count": 8,
   "id": "a1ca5d54",
   "metadata": {},
   "outputs": [
    {
     "name": "stdout",
     "output_type": "stream",
     "text": [
      "         Community  Year  Proportion of families below the poverty level  \\\n",
      "0           Alpine  2012                                        0.112166   \n",
      "1  Borrego Springs  2012                                        0.061367   \n",
      "2   Camp Pendleton  2012                                        0.090575   \n",
      "3        Fallbrook  2012                                        0.169965   \n",
      "4            Jamul  2012                                        0.230340   \n",
      "\n",
      "   Employment status  Recorded overdose incidents  \\\n",
      "0           0.886646                           31   \n",
      "1           0.828941                          135   \n",
      "2           0.911075                           63   \n",
      "3           0.877483                          142   \n",
      "4           0.926356                          116   \n",
      "\n",
      "   Proportion of population unhoused  Number of healthcare facilities  \\\n",
      "0                           0.074082                               16   \n",
      "1                           0.084891                               13   \n",
      "2                           0.020110                               10   \n",
      "3                           0.025944                                8   \n",
      "4                           0.071561                               14   \n",
      "\n",
      "   Urban or rural  Opioid prescription rates  Drug-related arrests  ...  \\\n",
      "0               1                   0.264171                   246  ...   \n",
      "1               0                   0.296914                   198  ...   \n",
      "2               1                   0.229501                   207  ...   \n",
      "3               1                   0.211832                    53  ...   \n",
      "4               1                   0.232113                   178  ...   \n",
      "\n",
      "   Total population Male  Total population Female  Population 0 to 14 years  \\\n",
      "0                  48986                    35428                     19612   \n",
      "1                  13980                     8142                      9220   \n",
      "2                  22928                    35813                     16759   \n",
      "3                  43316                    20161                     16808   \n",
      "4                  40590                    36528                      8797   \n",
      "\n",
      "   Population 15 to 19 years  Population 20 to 24 years  \\\n",
      "0                       8505                       8804   \n",
      "1                       6835                       9699   \n",
      "2                       1149                       3224   \n",
      "3                       3368                       4016   \n",
      "4                       9075                       4964   \n",
      "\n",
      "   Population 25 to 34 years  Population 35 to 44 years  \\\n",
      "0                      11187                      14948   \n",
      "1                      12484                      13432   \n",
      "2                      13544                      12599   \n",
      "3                       3562                       3613   \n",
      "4                       9075                      10601   \n",
      "\n",
      "   Population 45 to 54 years  Population 55 to 64 years  \\\n",
      "0                      12554                       5345   \n",
      "1                       5821                       2235   \n",
      "2                       9384                       2395   \n",
      "3                       2770                       3401   \n",
      "4                      13509                       6199   \n",
      "\n",
      "   Population 65 years and over  \n",
      "0                         10842  \n",
      "1                          8435  \n",
      "2                          8066  \n",
      "3                          6796  \n",
      "4                          9898  \n",
      "\n",
      "[5 rows x 21 columns]\n"
     ]
    }
   ],
   "source": [
    "print(df.head())"
   ]
  },
  {
   "cell_type": "code",
   "execution_count": 9,
   "id": "90683e34",
   "metadata": {},
   "outputs": [],
   "source": [
    "target_variable = 'Recorded overdose incidents'"
   ]
  },
  {
   "cell_type": "code",
   "execution_count": 10,
   "id": "dda4ece9",
   "metadata": {},
   "outputs": [],
   "source": [
    "features = df.drop(columns=['Community', 'Year', target_variable])"
   ]
  },
  {
   "cell_type": "code",
   "execution_count": 24,
   "id": "d9d35f75",
   "metadata": {},
   "outputs": [],
   "source": [
    "X = features\n",
    "y = df[target_variable]"
   ]
  },
  {
   "cell_type": "code",
   "execution_count": 25,
   "id": "b4e361ad",
   "metadata": {},
   "outputs": [],
   "source": [
    "X_train, X_test, y_train, y_test = train_test_split(X, y, test_size=0.2, random_state=42)"
   ]
  },
  {
   "cell_type": "code",
   "execution_count": 13,
   "id": "b47096f9",
   "metadata": {},
   "outputs": [],
   "source": [
    "rf_model = RandomForestRegressor(n_estimators=100, random_state=42)"
   ]
  },
  {
   "cell_type": "code",
   "execution_count": 14,
   "id": "a5f40ac9",
   "metadata": {},
   "outputs": [
    {
     "data": {
      "text/html": [
       "<style>#sk-container-id-1 {color: black;}#sk-container-id-1 pre{padding: 0;}#sk-container-id-1 div.sk-toggleable {background-color: white;}#sk-container-id-1 label.sk-toggleable__label {cursor: pointer;display: block;width: 100%;margin-bottom: 0;padding: 0.3em;box-sizing: border-box;text-align: center;}#sk-container-id-1 label.sk-toggleable__label-arrow:before {content: \"▸\";float: left;margin-right: 0.25em;color: #696969;}#sk-container-id-1 label.sk-toggleable__label-arrow:hover:before {color: black;}#sk-container-id-1 div.sk-estimator:hover label.sk-toggleable__label-arrow:before {color: black;}#sk-container-id-1 div.sk-toggleable__content {max-height: 0;max-width: 0;overflow: hidden;text-align: left;background-color: #f0f8ff;}#sk-container-id-1 div.sk-toggleable__content pre {margin: 0.2em;color: black;border-radius: 0.25em;background-color: #f0f8ff;}#sk-container-id-1 input.sk-toggleable__control:checked~div.sk-toggleable__content {max-height: 200px;max-width: 100%;overflow: auto;}#sk-container-id-1 input.sk-toggleable__control:checked~label.sk-toggleable__label-arrow:before {content: \"▾\";}#sk-container-id-1 div.sk-estimator input.sk-toggleable__control:checked~label.sk-toggleable__label {background-color: #d4ebff;}#sk-container-id-1 div.sk-label input.sk-toggleable__control:checked~label.sk-toggleable__label {background-color: #d4ebff;}#sk-container-id-1 input.sk-hidden--visually {border: 0;clip: rect(1px 1px 1px 1px);clip: rect(1px, 1px, 1px, 1px);height: 1px;margin: -1px;overflow: hidden;padding: 0;position: absolute;width: 1px;}#sk-container-id-1 div.sk-estimator {font-family: monospace;background-color: #f0f8ff;border: 1px dotted black;border-radius: 0.25em;box-sizing: border-box;margin-bottom: 0.5em;}#sk-container-id-1 div.sk-estimator:hover {background-color: #d4ebff;}#sk-container-id-1 div.sk-parallel-item::after {content: \"\";width: 100%;border-bottom: 1px solid gray;flex-grow: 1;}#sk-container-id-1 div.sk-label:hover label.sk-toggleable__label {background-color: #d4ebff;}#sk-container-id-1 div.sk-serial::before {content: \"\";position: absolute;border-left: 1px solid gray;box-sizing: border-box;top: 0;bottom: 0;left: 50%;z-index: 0;}#sk-container-id-1 div.sk-serial {display: flex;flex-direction: column;align-items: center;background-color: white;padding-right: 0.2em;padding-left: 0.2em;position: relative;}#sk-container-id-1 div.sk-item {position: relative;z-index: 1;}#sk-container-id-1 div.sk-parallel {display: flex;align-items: stretch;justify-content: center;background-color: white;position: relative;}#sk-container-id-1 div.sk-item::before, #sk-container-id-1 div.sk-parallel-item::before {content: \"\";position: absolute;border-left: 1px solid gray;box-sizing: border-box;top: 0;bottom: 0;left: 50%;z-index: -1;}#sk-container-id-1 div.sk-parallel-item {display: flex;flex-direction: column;z-index: 1;position: relative;background-color: white;}#sk-container-id-1 div.sk-parallel-item:first-child::after {align-self: flex-end;width: 50%;}#sk-container-id-1 div.sk-parallel-item:last-child::after {align-self: flex-start;width: 50%;}#sk-container-id-1 div.sk-parallel-item:only-child::after {width: 0;}#sk-container-id-1 div.sk-dashed-wrapped {border: 1px dashed gray;margin: 0 0.4em 0.5em 0.4em;box-sizing: border-box;padding-bottom: 0.4em;background-color: white;}#sk-container-id-1 div.sk-label label {font-family: monospace;font-weight: bold;display: inline-block;line-height: 1.2em;}#sk-container-id-1 div.sk-label-container {text-align: center;}#sk-container-id-1 div.sk-container {/* jupyter's `normalize.less` sets `[hidden] { display: none; }` but bootstrap.min.css set `[hidden] { display: none !important; }` so we also need the `!important` here to be able to override the default hidden behavior on the sphinx rendered scikit-learn.org. See: https://github.com/scikit-learn/scikit-learn/issues/21755 */display: inline-block !important;position: relative;}#sk-container-id-1 div.sk-text-repr-fallback {display: none;}</style><div id=\"sk-container-id-1\" class=\"sk-top-container\"><div class=\"sk-text-repr-fallback\"><pre>RandomForestRegressor(random_state=42)</pre><b>In a Jupyter environment, please rerun this cell to show the HTML representation or trust the notebook. <br />On GitHub, the HTML representation is unable to render, please try loading this page with nbviewer.org.</b></div><div class=\"sk-container\" hidden><div class=\"sk-item\"><div class=\"sk-estimator sk-toggleable\"><input class=\"sk-toggleable__control sk-hidden--visually\" id=\"sk-estimator-id-1\" type=\"checkbox\" checked><label for=\"sk-estimator-id-1\" class=\"sk-toggleable__label sk-toggleable__label-arrow\">RandomForestRegressor</label><div class=\"sk-toggleable__content\"><pre>RandomForestRegressor(random_state=42)</pre></div></div></div></div></div>"
      ],
      "text/plain": [
       "RandomForestRegressor(random_state=42)"
      ]
     },
     "execution_count": 14,
     "metadata": {},
     "output_type": "execute_result"
    }
   ],
   "source": [
    "rf_model.fit(X_train, y_train)"
   ]
  },
  {
   "cell_type": "code",
   "execution_count": 15,
   "id": "e236734b",
   "metadata": {},
   "outputs": [],
   "source": [
    "y_pred = rf_model.predict(X_test)"
   ]
  },
  {
   "cell_type": "code",
   "execution_count": 16,
   "id": "3cc119a3",
   "metadata": {},
   "outputs": [
    {
     "name": "stdout",
     "output_type": "stream",
     "text": [
      "Mean Squared Error: 1646.5431689655175\n",
      "R-squared: -0.06486403743788438\n"
     ]
    }
   ],
   "source": [
    "mse = mean_squared_error(y_test, y_pred)\n",
    "r2 = r2_score(y_test, y_pred)\n",
    "print(f\"Mean Squared Error: {mse}\")\n",
    "print(f\"R-squared: {r2}\")"
   ]
  },
  {
   "cell_type": "code",
   "execution_count": 17,
   "id": "df0cb5fe",
   "metadata": {},
   "outputs": [
    {
     "name": "stdout",
     "output_type": "stream",
     "text": [
      "\n",
      "Test Set Predictions:\n",
      "     Actual Overdose Incidents  Predicted Overdose Incidents\n",
      "117                         19                         91.38\n",
      "19                          59                         96.94\n",
      "82                         120                         87.98\n",
      "97                          25                         56.57\n",
      "56                          22                         54.35\n"
     ]
    }
   ],
   "source": [
    "results_df = pd.DataFrame({\n",
    "    'Actual Overdose Incidents': y_test,\n",
    "    'Predicted Overdose Incidents': y_pred\n",
    "})\n",
    "print(\"\\nTest Set Predictions:\")\n",
    "print(results_df.head())\n"
   ]
  },
  {
   "cell_type": "code",
   "execution_count": 33,
   "id": "4d0994bd",
   "metadata": {},
   "outputs": [],
   "source": [
    "future_years = np.arange(2023, 2025)  # Predict for 2023, 2024, and 2025\n",
    "future_data = pd.DataFrame({\n",
    "    'Proportion of families below the poverty level': np.random.uniform(0.05, 0.25, size=len(future_years)),\n",
    "    'Employment status': np.random.uniform(0.6, 0.95, size=len(future_years)),\n",
    "    'Proportion of population unhoused': np.random.uniform(0.01, 0.1, size=len(future_years)),\n",
    "    'Number of healthcare facilities': np.random.randint(1, 20, size=len(future_years)),\n",
    "    'Urban or rural': np.random.choice([1, 0], size=len(future_years)),  # 1 for Urban, 0 for Rural\n",
    "    'Opioid prescription rates': np.random.uniform(0.05, 0.3, size=len(future_years)),\n",
    "    'Drug-related arrests': np.random.randint(10, 300, size=len(future_years)),\n",
    "    'Total population': np.random.randint(10000, 100000, size=len(future_years)),  # Include Total population\n",
    "    'Total population Male': np.random.randint(5000, 50000, size=len(future_years)),\n",
    "    'Total population Female': np.random.randint(5000, 50000, size=len(future_years)),\n",
    "    'Population 0 to 14 years': np.random.randint(1000, 20000, size=len(future_years)),\n",
    "    'Population 15 to 19 years': np.random.randint(500, 10000, size=len(future_years)),\n",
    "    'Population 20 to 24 years': np.random.randint(500, 10000, size=len(future_years)),\n",
    "    'Population 25 to 34 years': np.random.randint(2000, 15000, size=len(future_years)),\n",
    "    'Population 35 to 44 years': np.random.randint(2000, 15000, size=len(future_years)),\n",
    "    'Population 45 to 54 years': np.random.randint(2000, 15000, size=len(future_years)),\n",
    "    'Population 55 to 64 years': np.random.randint(2000, 15000, size=len(future_years)),\n",
    "    'Population 65 years and over': np.random.randint(1000, 15000, size=len(future_years))\n",
    "})\n",
    "future_predictions = rf_model.predict(future_data)"
   ]
  },
  {
   "cell_type": "code",
   "execution_count": 32,
   "id": "0e87248e",
   "metadata": {},
   "outputs": [
    {
     "name": "stdout",
     "output_type": "stream",
     "text": [
      "\n",
      "Future Predictions (2023-2025):\n",
      "   Year  Predicted Overdose Incidents\n",
      "0  2025                         70.46\n",
      "1  2026                         80.12\n"
     ]
    }
   ],
   "source": [
    "future_results_df = pd.DataFrame({\n",
    "    'Year': future_years,\n",
    "    'Predicted Overdose Incidents': future_predictions\n",
    "})\n",
    "print(\"\\nFuture Predictions (2023-2025):\")\n",
    "print(future_results_df)"
   ]
  },
  {
   "cell_type": "markdown",
   "id": "bb73368d",
   "metadata": {},
   "source": [
    "Now, for specific communities"
   ]
  },
  {
   "cell_type": "code",
   "execution_count": 34,
   "id": "014391c7",
   "metadata": {},
   "outputs": [],
   "source": [
    "future_years = np.arange(2023, 2025)"
   ]
  },
  {
   "cell_type": "code",
   "execution_count": 35,
   "id": "8d09fa8e",
   "metadata": {},
   "outputs": [],
   "source": [
    "specific_communities = [\n",
    "    'San Diego County, California', 'Alpine', 'Borrego Springs', 'Camp Pendleton',\n",
    "    'Fallbrook', 'Jamul', 'Laguna-Pine Valley', 'Mountain Empire',\n",
    "    'Oceanside-Escondido', 'Palomar-Julian CCD', 'Pauma Valley CCD',\n",
    "    'Ramona CCD', 'San Diego CCD', 'Valley Center CCD'\n",
    "]"
   ]
  },
  {
   "cell_type": "code",
   "execution_count": 36,
   "id": "dcf2f1ba",
   "metadata": {},
   "outputs": [],
   "source": [
    "future_data = []\n",
    "for year in future_years:\n",
    "    for community in specific_communities:\n",
    "        row = {\n",
    "            'Community': community,\n",
    "            'Year': year,\n",
    "            'Proportion of families below the poverty level': np.random.uniform(0.05, 0.25),\n",
    "            'Employment status': np.random.uniform(0.6, 0.95),\n",
    "            'Proportion of population unhoused': np.random.uniform(0.01, 0.1),\n",
    "            'Number of healthcare facilities': np.random.randint(1, 20),\n",
    "            'Urban or rural': np.random.choice([1, 0]),  # 1 for Urban, 0 for Rural\n",
    "            'Opioid prescription rates': np.random.uniform(0.05, 0.3),\n",
    "            'Drug-related arrests': np.random.randint(10, 300),\n",
    "            'Total population': np.random.randint(10000, 100000),\n",
    "            'Total population Male': np.random.randint(5000, 50000),\n",
    "            'Total population Female': np.random.randint(5000, 50000),\n",
    "            'Population 0 to 14 years': np.random.randint(1000, 20000),\n",
    "            'Population 15 to 19 years': np.random.randint(500, 10000),\n",
    "            'Population 20 to 24 years': np.random.randint(500, 10000),\n",
    "            'Population 25 to 34 years': np.random.randint(2000, 15000),\n",
    "            'Population 35 to 44 years': np.random.randint(2000, 15000),\n",
    "            'Population 45 to 54 years': np.random.randint(2000, 15000),\n",
    "            'Population 55 to 64 years': np.random.randint(2000, 15000),\n",
    "            'Population 65 years and over': np.random.randint(1000, 15000)\n",
    "        }\n",
    "        future_data.append(row)"
   ]
  },
  {
   "cell_type": "code",
   "execution_count": 37,
   "id": "f9f748a9",
   "metadata": {},
   "outputs": [],
   "source": [
    "future_data_df = pd.DataFrame(future_data)"
   ]
  },
  {
   "cell_type": "code",
   "execution_count": 38,
   "id": "0a47b11f",
   "metadata": {},
   "outputs": [],
   "source": [
    "future_X = future_data_df.drop(columns=['Community', 'Year'])"
   ]
  },
  {
   "cell_type": "code",
   "execution_count": 39,
   "id": "01fea116",
   "metadata": {},
   "outputs": [],
   "source": [
    "future_predictions = rf_model.predict(future_X)"
   ]
  },
  {
   "cell_type": "code",
   "execution_count": 40,
   "id": "b727d46f",
   "metadata": {},
   "outputs": [],
   "source": [
    "future_data_df['Predicted Overdose Incidents'] = future_predictions"
   ]
  },
  {
   "cell_type": "code",
   "execution_count": 41,
   "id": "53228f84",
   "metadata": {},
   "outputs": [
    {
     "name": "stdout",
     "output_type": "stream",
     "text": [
      "\n",
      "Future Predictions for Specific Communities (2023-2025):\n",
      "                       Community  Year  Predicted Overdose Incidents\n",
      "0   San Diego County, California  2023                         59.29\n",
      "1                         Alpine  2023                         72.42\n",
      "2                Borrego Springs  2023                         51.47\n",
      "3                 Camp Pendleton  2023                         67.55\n",
      "4                      Fallbrook  2023                         65.22\n",
      "5                          Jamul  2023                         69.42\n",
      "6             Laguna-Pine Valley  2023                         85.10\n",
      "7                Mountain Empire  2023                         73.86\n",
      "8            Oceanside-Escondido  2023                         84.00\n",
      "9             Palomar-Julian CCD  2023                         72.97\n",
      "10              Pauma Valley CCD  2023                         72.95\n",
      "11                    Ramona CCD  2023                         55.98\n",
      "12                 San Diego CCD  2023                         82.63\n",
      "13             Valley Center CCD  2023                         87.24\n",
      "14  San Diego County, California  2024                         70.23\n",
      "15                        Alpine  2024                         78.68\n",
      "16               Borrego Springs  2024                         81.24\n",
      "17                Camp Pendleton  2024                         55.58\n",
      "18                     Fallbrook  2024                         76.79\n",
      "19                         Jamul  2024                         68.03\n",
      "20            Laguna-Pine Valley  2024                         71.91\n",
      "21               Mountain Empire  2024                         72.95\n",
      "22           Oceanside-Escondido  2024                         69.55\n",
      "23            Palomar-Julian CCD  2024                         89.74\n",
      "24              Pauma Valley CCD  2024                         75.35\n",
      "25                    Ramona CCD  2024                         80.25\n",
      "26                 San Diego CCD  2024                         69.51\n",
      "27             Valley Center CCD  2024                        103.30\n"
     ]
    }
   ],
   "source": [
    "print(\"\\nFuture Predictions for Specific Communities (2023-2025):\")\n",
    "print(future_data_df[['Community', 'Year', 'Predicted Overdose Incidents']])"
   ]
  },
  {
   "cell_type": "code",
   "execution_count": 47,
   "id": "4dbaff3e",
   "metadata": {},
   "outputs": [
    {
     "name": "stdout",
     "output_type": "stream",
     "text": [
      "Total predicted overdose incidents for 2023: 1000.1\n"
     ]
    }
   ],
   "source": [
    "predictions_2023 = future_data_df[future_data_df['Year'] == 2023]\n",
    "\n",
    "total_predicted_overdoses_2023 = predictions_2023['Predicted Overdose Incidents'].sum()\n",
    "\n",
    "print(f\"Total predicted overdose incidents for 2023: {total_predicted_overdoses_2023}\")"
   ]
  },
  {
   "cell_type": "code",
   "execution_count": null,
   "id": "1302e771",
   "metadata": {},
   "outputs": [],
   "source": []
  }
 ],
 "metadata": {
  "kernelspec": {
   "display_name": "Python 3 (ipykernel)",
   "language": "python",
   "name": "python3"
  },
  "language_info": {
   "codemirror_mode": {
    "name": "ipython",
    "version": 3
   },
   "file_extension": ".py",
   "mimetype": "text/x-python",
   "name": "python",
   "nbconvert_exporter": "python",
   "pygments_lexer": "ipython3",
   "version": "3.11.5"
  }
 },
 "nbformat": 4,
 "nbformat_minor": 5
}

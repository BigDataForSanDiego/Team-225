{
 "cells": [
  {
   "cell_type": "code",
   "execution_count": 1,
   "id": "9c4da1fe",
   "metadata": {},
   "outputs": [
    {
     "name": "stdout",
     "output_type": "stream",
     "text": [
      "Requirement already satisfied: pandas in /Users/mehrisadri/anaconda3/lib/python3.11/site-packages (2.0.3)\n",
      "Requirement already satisfied: numpy in /Users/mehrisadri/anaconda3/lib/python3.11/site-packages (1.24.3)\n",
      "Requirement already satisfied: scikit-learn in /Users/mehrisadri/anaconda3/lib/python3.11/site-packages (1.3.0)\n",
      "Requirement already satisfied: python-dateutil>=2.8.2 in /Users/mehrisadri/anaconda3/lib/python3.11/site-packages (from pandas) (2.8.2)\n",
      "Requirement already satisfied: pytz>=2020.1 in /Users/mehrisadri/anaconda3/lib/python3.11/site-packages (from pandas) (2023.3.post1)\n",
      "Requirement already satisfied: tzdata>=2022.1 in /Users/mehrisadri/anaconda3/lib/python3.11/site-packages (from pandas) (2023.3)\n",
      "Requirement already satisfied: scipy>=1.5.0 in /Users/mehrisadri/anaconda3/lib/python3.11/site-packages (from scikit-learn) (1.11.1)\n",
      "Requirement already satisfied: joblib>=1.1.1 in /Users/mehrisadri/anaconda3/lib/python3.11/site-packages (from scikit-learn) (1.2.0)\n",
      "Requirement already satisfied: threadpoolctl>=2.0.0 in /Users/mehrisadri/anaconda3/lib/python3.11/site-packages (from scikit-learn) (2.2.0)\n",
      "Requirement already satisfied: six>=1.5 in /Users/mehrisadri/anaconda3/lib/python3.11/site-packages (from python-dateutil>=2.8.2->pandas) (1.16.0)\n"
     ]
    }
   ],
   "source": [
    "!pip install pandas numpy scikit-learn\n"
   ]
  },
  {
   "cell_type": "markdown",
   "id": "bef88bb9",
   "metadata": {},
   "source": [
    "Install packages"
   ]
  },
  {
   "cell_type": "code",
   "execution_count": 3,
   "id": "7b6a4a0a",
   "metadata": {},
   "outputs": [],
   "source": [
    "import pandas as pd\n",
    "import numpy as np\n",
    "from sklearn.model_selection import train_test_split\n",
    "from sklearn.linear_model import LinearRegression\n",
    "from sklearn.metrics import mean_squared_error, r2_score\n"
   ]
  },
  {
   "cell_type": "markdown",
   "id": "5aad9150",
   "metadata": {},
   "source": [
    "Cleaned data can be imported below"
   ]
  },
  {
   "cell_type": "code",
   "execution_count": 5,
   "id": "dae02206",
   "metadata": {},
   "outputs": [
    {
     "data": {
      "text/html": [
       "<div>\n",
       "<style scoped>\n",
       "    .dataframe tbody tr th:only-of-type {\n",
       "        vertical-align: middle;\n",
       "    }\n",
       "\n",
       "    .dataframe tbody tr th {\n",
       "        vertical-align: top;\n",
       "    }\n",
       "\n",
       "    .dataframe thead th {\n",
       "        text-align: right;\n",
       "    }\n",
       "</style>\n",
       "<table border=\"1\" class=\"dataframe\">\n",
       "  <thead>\n",
       "    <tr style=\"text-align: right;\">\n",
       "      <th></th>\n",
       "      <th>zip_code</th>\n",
       "      <th>population</th>\n",
       "      <th>gender_ratio</th>\n",
       "      <th>median_income</th>\n",
       "      <th>age_25th_percentile</th>\n",
       "      <th>age_median</th>\n",
       "      <th>age_75th_percentile</th>\n",
       "      <th>unhoused_population</th>\n",
       "      <th>overdose_count</th>\n",
       "      <th>unemployment_rate</th>\n",
       "      <th>poverty_rate</th>\n",
       "      <th>average_education</th>\n",
       "      <th>insurance_coverage</th>\n",
       "      <th>access_to_healthcare</th>\n",
       "      <th>urban_rural</th>\n",
       "      <th>narcan_distribution</th>\n",
       "    </tr>\n",
       "  </thead>\n",
       "  <tbody>\n",
       "    <tr>\n",
       "      <th>0</th>\n",
       "      <td>92101</td>\n",
       "      <td>50000</td>\n",
       "      <td>0.50</td>\n",
       "      <td>60000</td>\n",
       "      <td>25</td>\n",
       "      <td>35</td>\n",
       "      <td>45</td>\n",
       "      <td>100</td>\n",
       "      <td>20</td>\n",
       "      <td>0.05</td>\n",
       "      <td>0.12</td>\n",
       "      <td>12</td>\n",
       "      <td>0.85</td>\n",
       "      <td>0.90</td>\n",
       "      <td>1</td>\n",
       "      <td>250.0</td>\n",
       "    </tr>\n",
       "    <tr>\n",
       "      <th>1</th>\n",
       "      <td>92102</td>\n",
       "      <td>30000</td>\n",
       "      <td>0.45</td>\n",
       "      <td>55000</td>\n",
       "      <td>22</td>\n",
       "      <td>34</td>\n",
       "      <td>42</td>\n",
       "      <td>50</td>\n",
       "      <td>15</td>\n",
       "      <td>0.07</td>\n",
       "      <td>0.15</td>\n",
       "      <td>11</td>\n",
       "      <td>0.80</td>\n",
       "      <td>0.70</td>\n",
       "      <td>0</td>\n",
       "      <td>-270.0</td>\n",
       "    </tr>\n",
       "    <tr>\n",
       "      <th>2</th>\n",
       "      <td>92103</td>\n",
       "      <td>40000</td>\n",
       "      <td>0.55</td>\n",
       "      <td>70000</td>\n",
       "      <td>27</td>\n",
       "      <td>36</td>\n",
       "      <td>48</td>\n",
       "      <td>30</td>\n",
       "      <td>10</td>\n",
       "      <td>0.04</td>\n",
       "      <td>0.10</td>\n",
       "      <td>14</td>\n",
       "      <td>0.90</td>\n",
       "      <td>0.80</td>\n",
       "      <td>1</td>\n",
       "      <td>-110.0</td>\n",
       "    </tr>\n",
       "    <tr>\n",
       "      <th>3</th>\n",
       "      <td>92104</td>\n",
       "      <td>45000</td>\n",
       "      <td>0.48</td>\n",
       "      <td>50000</td>\n",
       "      <td>24</td>\n",
       "      <td>33</td>\n",
       "      <td>40</td>\n",
       "      <td>80</td>\n",
       "      <td>25</td>\n",
       "      <td>0.06</td>\n",
       "      <td>0.18</td>\n",
       "      <td>10</td>\n",
       "      <td>0.75</td>\n",
       "      <td>0.60</td>\n",
       "      <td>0</td>\n",
       "      <td>95.0</td>\n",
       "    </tr>\n",
       "    <tr>\n",
       "      <th>4</th>\n",
       "      <td>92105</td>\n",
       "      <td>60000</td>\n",
       "      <td>0.52</td>\n",
       "      <td>65000</td>\n",
       "      <td>26</td>\n",
       "      <td>37</td>\n",
       "      <td>44</td>\n",
       "      <td>150</td>\n",
       "      <td>30</td>\n",
       "      <td>0.03</td>\n",
       "      <td>0.11</td>\n",
       "      <td>13</td>\n",
       "      <td>0.88</td>\n",
       "      <td>0.95</td>\n",
       "      <td>1</td>\n",
       "      <td>810.0</td>\n",
       "    </tr>\n",
       "  </tbody>\n",
       "</table>\n",
       "</div>"
      ],
      "text/plain": [
       "  zip_code  population  gender_ratio  median_income  age_25th_percentile  \\\n",
       "0    92101       50000          0.50          60000                   25   \n",
       "1    92102       30000          0.45          55000                   22   \n",
       "2    92103       40000          0.55          70000                   27   \n",
       "3    92104       45000          0.48          50000                   24   \n",
       "4    92105       60000          0.52          65000                   26   \n",
       "\n",
       "   age_median  age_75th_percentile  unhoused_population  overdose_count  \\\n",
       "0          35                   45                  100              20   \n",
       "1          34                   42                   50              15   \n",
       "2          36                   48                   30              10   \n",
       "3          33                   40                   80              25   \n",
       "4          37                   44                  150              30   \n",
       "\n",
       "   unemployment_rate  poverty_rate  average_education  insurance_coverage  \\\n",
       "0               0.05          0.12                 12                0.85   \n",
       "1               0.07          0.15                 11                0.80   \n",
       "2               0.04          0.10                 14                0.90   \n",
       "3               0.06          0.18                 10                0.75   \n",
       "4               0.03          0.11                 13                0.88   \n",
       "\n",
       "   access_to_healthcare  urban_rural  narcan_distribution  \n",
       "0                  0.90            1                250.0  \n",
       "1                  0.70            0               -270.0  \n",
       "2                  0.80            1               -110.0  \n",
       "3                  0.60            0                 95.0  \n",
       "4                  0.95            1                810.0  "
      ]
     },
     "execution_count": 5,
     "metadata": {},
     "output_type": "execute_result"
    }
   ],
   "source": [
    "data = {\n",
    "    'zip_code': ['92101', '92102', '92103', '92104', '92105'],\n",
    "    'population': [50000, 30000, 40000, 45000, 60000],\n",
    "    'gender_ratio': [0.5, 0.45, 0.55, 0.48, 0.52],  \n",
    "    'median_income': [60000, 55000, 70000, 50000, 65000],\n",
    "    'age_25th_percentile': [25, 22, 27, 24, 26],\n",
    "    'age_median': [35, 34, 36, 33, 37],\n",
    "    'age_75th_percentile': [45, 42, 48, 40, 44],\n",
    "    'unhoused_population': [100, 50, 30, 80, 150],\n",
    "    'overdose_count': [20, 15, 10, 25, 30],\n",
    "    'unemployment_rate': [0.05, 0.07, 0.04, 0.06, 0.03],  \n",
    "    'poverty_rate': [0.12, 0.15, 0.10, 0.18, 0.11],\n",
    "    'average_education': [12, 11, 14, 10, 13],  \n",
    "    'insurance_coverage': [0.85, 0.80, 0.90, 0.75, 0.88],  \n",
    "    'access_to_healthcare': [0.9, 0.7, 0.8, 0.6, 0.95],  \n",
    "    'urban_rural': [1, 0, 1, 0, 1]  \n",
    "}\n",
    "\n",
    "df = pd.DataFrame(data)\n",
    "\n",
    "df['narcan_distribution'] = (\n",
    "    df['overdose_count'] * 10 + \n",
    "    (df['population'] / 1000) + \n",
    "    (df['unhoused_population'] * 5) -\n",
    "    (df['unemployment_rate'] * 10000)\n",
    ")  \n",
    "df\n"
   ]
  },
  {
   "cell_type": "code",
   "execution_count": 6,
   "id": "99912ef8",
   "metadata": {},
   "outputs": [],
   "source": [
    "X = df[['population', 'gender_ratio', 'median_income', 'age_25th_percentile',\n",
    "         'age_median', 'age_75th_percentile', 'unhoused_population', \n",
    "         'overdose_count', 'unemployment_rate', 'poverty_rate', \n",
    "         'average_education', 'insurance_coverage', \n",
    "         'access_to_healthcare', 'urban_rural']]\n",
    "y = df['narcan_distribution']\n"
   ]
  },
  {
   "cell_type": "code",
   "execution_count": 7,
   "id": "f104b759",
   "metadata": {},
   "outputs": [],
   "source": [
    "X_train, X_test, y_train, y_test = train_test_split(X, y, test_size=0.2, random_state=42)\n"
   ]
  },
  {
   "cell_type": "code",
   "execution_count": 8,
   "id": "267c4968",
   "metadata": {},
   "outputs": [
    {
     "data": {
      "text/html": [
       "<style>#sk-container-id-1 {color: black;}#sk-container-id-1 pre{padding: 0;}#sk-container-id-1 div.sk-toggleable {background-color: white;}#sk-container-id-1 label.sk-toggleable__label {cursor: pointer;display: block;width: 100%;margin-bottom: 0;padding: 0.3em;box-sizing: border-box;text-align: center;}#sk-container-id-1 label.sk-toggleable__label-arrow:before {content: \"▸\";float: left;margin-right: 0.25em;color: #696969;}#sk-container-id-1 label.sk-toggleable__label-arrow:hover:before {color: black;}#sk-container-id-1 div.sk-estimator:hover label.sk-toggleable__label-arrow:before {color: black;}#sk-container-id-1 div.sk-toggleable__content {max-height: 0;max-width: 0;overflow: hidden;text-align: left;background-color: #f0f8ff;}#sk-container-id-1 div.sk-toggleable__content pre {margin: 0.2em;color: black;border-radius: 0.25em;background-color: #f0f8ff;}#sk-container-id-1 input.sk-toggleable__control:checked~div.sk-toggleable__content {max-height: 200px;max-width: 100%;overflow: auto;}#sk-container-id-1 input.sk-toggleable__control:checked~label.sk-toggleable__label-arrow:before {content: \"▾\";}#sk-container-id-1 div.sk-estimator input.sk-toggleable__control:checked~label.sk-toggleable__label {background-color: #d4ebff;}#sk-container-id-1 div.sk-label input.sk-toggleable__control:checked~label.sk-toggleable__label {background-color: #d4ebff;}#sk-container-id-1 input.sk-hidden--visually {border: 0;clip: rect(1px 1px 1px 1px);clip: rect(1px, 1px, 1px, 1px);height: 1px;margin: -1px;overflow: hidden;padding: 0;position: absolute;width: 1px;}#sk-container-id-1 div.sk-estimator {font-family: monospace;background-color: #f0f8ff;border: 1px dotted black;border-radius: 0.25em;box-sizing: border-box;margin-bottom: 0.5em;}#sk-container-id-1 div.sk-estimator:hover {background-color: #d4ebff;}#sk-container-id-1 div.sk-parallel-item::after {content: \"\";width: 100%;border-bottom: 1px solid gray;flex-grow: 1;}#sk-container-id-1 div.sk-label:hover label.sk-toggleable__label {background-color: #d4ebff;}#sk-container-id-1 div.sk-serial::before {content: \"\";position: absolute;border-left: 1px solid gray;box-sizing: border-box;top: 0;bottom: 0;left: 50%;z-index: 0;}#sk-container-id-1 div.sk-serial {display: flex;flex-direction: column;align-items: center;background-color: white;padding-right: 0.2em;padding-left: 0.2em;position: relative;}#sk-container-id-1 div.sk-item {position: relative;z-index: 1;}#sk-container-id-1 div.sk-parallel {display: flex;align-items: stretch;justify-content: center;background-color: white;position: relative;}#sk-container-id-1 div.sk-item::before, #sk-container-id-1 div.sk-parallel-item::before {content: \"\";position: absolute;border-left: 1px solid gray;box-sizing: border-box;top: 0;bottom: 0;left: 50%;z-index: -1;}#sk-container-id-1 div.sk-parallel-item {display: flex;flex-direction: column;z-index: 1;position: relative;background-color: white;}#sk-container-id-1 div.sk-parallel-item:first-child::after {align-self: flex-end;width: 50%;}#sk-container-id-1 div.sk-parallel-item:last-child::after {align-self: flex-start;width: 50%;}#sk-container-id-1 div.sk-parallel-item:only-child::after {width: 0;}#sk-container-id-1 div.sk-dashed-wrapped {border: 1px dashed gray;margin: 0 0.4em 0.5em 0.4em;box-sizing: border-box;padding-bottom: 0.4em;background-color: white;}#sk-container-id-1 div.sk-label label {font-family: monospace;font-weight: bold;display: inline-block;line-height: 1.2em;}#sk-container-id-1 div.sk-label-container {text-align: center;}#sk-container-id-1 div.sk-container {/* jupyter's `normalize.less` sets `[hidden] { display: none; }` but bootstrap.min.css set `[hidden] { display: none !important; }` so we also need the `!important` here to be able to override the default hidden behavior on the sphinx rendered scikit-learn.org. See: https://github.com/scikit-learn/scikit-learn/issues/21755 */display: inline-block !important;position: relative;}#sk-container-id-1 div.sk-text-repr-fallback {display: none;}</style><div id=\"sk-container-id-1\" class=\"sk-top-container\"><div class=\"sk-text-repr-fallback\"><pre>LinearRegression()</pre><b>In a Jupyter environment, please rerun this cell to show the HTML representation or trust the notebook. <br />On GitHub, the HTML representation is unable to render, please try loading this page with nbviewer.org.</b></div><div class=\"sk-container\" hidden><div class=\"sk-item\"><div class=\"sk-estimator sk-toggleable\"><input class=\"sk-toggleable__control sk-hidden--visually\" id=\"sk-estimator-id-1\" type=\"checkbox\" checked><label for=\"sk-estimator-id-1\" class=\"sk-toggleable__label sk-toggleable__label-arrow\">LinearRegression</label><div class=\"sk-toggleable__content\"><pre>LinearRegression()</pre></div></div></div></div></div>"
      ],
      "text/plain": [
       "LinearRegression()"
      ]
     },
     "execution_count": 8,
     "metadata": {},
     "output_type": "execute_result"
    }
   ],
   "source": [
    "model = LinearRegression()\n",
    "model.fit(X_train, y_train)\n"
   ]
  },
  {
   "cell_type": "code",
   "execution_count": 9,
   "id": "8d173173",
   "metadata": {},
   "outputs": [],
   "source": [
    "y_pred = model.predict(X_test)\n"
   ]
  },
  {
   "cell_type": "code",
   "execution_count": 10,
   "id": "040f0223",
   "metadata": {},
   "outputs": [
    {
     "name": "stdout",
     "output_type": "stream",
     "text": [
      "Predicted Narcan Distribution: 754.9408278602627\n"
     ]
    }
   ],
   "source": [
    "\n",
    "new_data = pd.DataFrame({\n",
    "    'population': [55000],\n",
    "    'gender_ratio': [0.5],\n",
    "    'median_income': [62000],\n",
    "    'age_25th_percentile': [26],\n",
    "    'age_median': [36],\n",
    "    'age_75th_percentile': [46],\n",
    "    'unhoused_population': [80],\n",
    "    'overdose_count': [18],\n",
    "    'unemployment_rate': [0.04],\n",
    "    'poverty_rate': [0.10],\n",
    "    'average_education': [13],\n",
    "    'insurance_coverage': [0.85],\n",
    "    'access_to_healthcare': [0.9],\n",
    "    'urban_rural': [1]\n",
    "})\n",
    "\n",
    "predicted_narcan = model.predict(new_data)\n",
    "print(f'Predicted Narcan Distribution: {predicted_narcan[0]}')\n"
   ]
  },
  {
   "cell_type": "markdown",
   "id": "9a23fc05",
   "metadata": {},
   "source": [
    "The following predictions are by-year"
   ]
  },
  {
   "cell_type": "code",
   "execution_count": 15,
   "id": "a4e8679b",
   "metadata": {},
   "outputs": [
    {
     "name": "stdout",
     "output_type": "stream",
     "text": [
      "   zip_code  predicted_narcan  predicted_narcan_se\n",
      "0     92101        835.153414            37.642690\n",
      "1     92102        499.597744            26.199489\n",
      "2     92103        965.097691            56.740372\n",
      "3     92104        532.476544            51.976501\n",
      "4     92105        256.060554            42.452559\n",
      "5     92106        796.454507            41.205491\n",
      "6     92107        382.420409            53.400130\n",
      "7     92108        425.789023            57.601236\n",
      "8     92109        651.573893            38.362407\n",
      "9     92110        278.603662            45.794683\n",
      "10    92111        589.713917            53.338838\n",
      "11    92112        650.713572            48.180274\n",
      "12    92113        275.425491            58.504959\n",
      "13    92114        598.247353            44.379815\n",
      "14    92115        774.200069            54.979097\n",
      "15    92116        799.486048            44.501737\n",
      "16    92117        728.706675            45.944181\n",
      "17    92118        331.383109            59.545543\n",
      "18    92119        620.228012            58.155202\n",
      "19    92120        518.668315            58.359776\n"
     ]
    }
   ],
   "source": [
    "import pandas as pd\n",
    "import statsmodels.api as sm\n",
    "\n",
    "# Creating a hypothetical DataFrame\n",
    "data = pd.DataFrame({\n",
    "    'zip_code': ['92101', '92102', '92103', '92104', '92105', \n",
    "                 '92106', '92107', '92108', '92109', '92110', \n",
    "                 '92111', '92112', '92113', '92114', '92115', \n",
    "                 '92116', '92117', '92118', '92119', '92120'],\n",
    "    'unemployment_rate': [4.8, 5.2, 3.9, 5.5, 6.1, \n",
    "                          4.3, 5.0, 4.9, 5.6, 7.0, \n",
    "                          6.3, 4.5, 5.1, 6.4, 5.7, \n",
    "                          4.2, 5.3, 6.8, 7.1, 5.4],\n",
    "    'poverty_rate': [15.5, 18.2, 12.3, 21.5, 22.0, \n",
    "                     14.7, 17.5, 19.0, 16.8, 25.1, \n",
    "                     20.3, 13.4, 22.9, 23.5, 18.9, \n",
    "                     16.2, 15.0, 24.0, 27.1, 20.5],\n",
    "    'median_income': [64000, 57000, 75000, 49000, 46000, \n",
    "                      70000, 48000, 52000, 62000, 43000, \n",
    "                      58000, 60000, 45000, 52000, 61000, \n",
    "                      67000, 64000, 52000, 49000, 58000],\n",
    "    'educational_attainment': [0.78, 0.70, 0.85, 0.65, 0.62, \n",
    "                               0.80, 0.60, 0.68, 0.74, 0.58, \n",
    "                               0.76, 0.72, 0.59, 0.63, 0.75, \n",
    "                               0.77, 0.79, 0.61, 0.66, 0.65],\n",
    "    'insurance_coverage': [0.87, 0.75, 0.92, 0.80, 0.70, \n",
    "                           0.88, 0.73, 0.65, 0.82, 0.68, \n",
    "                           0.75, 0.81, 0.67, 0.74, 0.69, \n",
    "                           0.85, 0.78, 0.66, 0.64, 0.72],\n",
    "    'access_healthcare': [0.7, 0.5, 0.9, 0.6, 0.4, \n",
    "                          0.8, 0.3, 0.6, 0.7, 0.4, \n",
    "                          0.5, 0.6, 0.2, 0.5, 0.8, \n",
    "                          0.9, 0.6, 0.3, 0.4, 0.7],\n",
    "    'mental_health_prevalence': [0.20, 0.28, 0.18, 0.30, 0.35, \n",
    "                                  0.22, 0.25, 0.31, 0.26, 0.38, \n",
    "                                  0.29, 0.19, 0.33, 0.31, 0.27, \n",
    "                                  0.24, 0.21, 0.37, 0.34, 0.32],\n",
    "    'treatment_access': [0.6, 0.4, 0.7, 0.5, 0.3, \n",
    "                         0.8, 0.2, 0.4, 0.6, 0.3, \n",
    "                         0.5, 0.6, 0.1, 0.5, 0.7, \n",
    "                         0.9, 0.6, 0.2, 0.4, 0.8],\n",
    "    'narcan_distribution': [850, 600, 900, 500, 300, \n",
    "                           750, 450, 400, 700, 200, \n",
    "                           600, 550, 250, 650, 800, \n",
    "                           900, 720, 310, 600, 480]\n",
    "})\n",
    "\n",
    "X = data[['unemployment_rate', 'poverty_rate', 'median_income', 'educational_attainment',\n",
    "           'insurance_coverage', 'access_healthcare', 'mental_health_prevalence', \n",
    "           'treatment_access']]\n",
    "y = data['narcan_distribution']  \n",
    "\n",
    "\n",
    "X = sm.add_constant(X)\n",
    "\n",
    "\n",
    "model = sm.OLS(y, X).fit()\n",
    "\n",
    "\n",
    "data['predicted_narcan'] = model.predict(X)\n",
    "\n",
    "\n",
    "predictions = model.get_prediction(X)\n",
    "data['predicted_narcan_se'] = predictions.se_mean\n",
    "\n",
    "\n",
    "result = data[['zip_code', 'predicted_narcan', 'predicted_narcan_se']]\n",
    "print(result)\n"
   ]
  },
  {
   "cell_type": "code",
   "execution_count": null,
   "id": "f6a40640",
   "metadata": {},
   "outputs": [],
   "source": []
  },
  {
   "cell_type": "code",
   "execution_count": null,
   "id": "e5bcadc3",
   "metadata": {},
   "outputs": [],
   "source": []
  }
 ],
 "metadata": {
  "kernelspec": {
   "display_name": "Python 3 (ipykernel)",
   "language": "python",
   "name": "python3"
  },
  "language_info": {
   "codemirror_mode": {
    "name": "ipython",
    "version": 3
   },
   "file_extension": ".py",
   "mimetype": "text/x-python",
   "name": "python",
   "nbconvert_exporter": "python",
   "pygments_lexer": "ipython3",
   "version": "3.11.5"
  }
 },
 "nbformat": 4,
 "nbformat_minor": 5
}
